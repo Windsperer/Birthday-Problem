{
 "cells": [
  {
   "cell_type": "markdown",
   "metadata": {},
   "source": [
    "### The Birthday Problem\n",
    "\n",
    "\n",
    "The birthday problem is a known statistical exercise commonly used to show the counterintuitive  nature of probability. The problem asks: given a group of *n* people, what is the probability that there is **at least one** repeated date of birth within that group?\n",
    "\n",
    "The derivation of this probability is fairly easy, although not trivial. Moreover, given that there are 365 possible birth dates, most people assume that, for that probability to be of considerable magnitude (for example, 0.5) the number *n* should be in the hundreds. But that turns out not to be the case.\n",
    "\n",
    "The probability, as a function of *n*, of having at least one repeated birth date is given by the next formula:\n",
    "\n",
    "\\begin{equation}\n",
    "    P_{x>0} = p(n) = 1 - \\prod_{i=1}^{n-1}\\left(1-\\frac{i}{365}\\right)\n",
    "\\end{equation}\n",
    "\n",
    "If we introduce some values of *n* we found that for a group of 23, the probability of having a repetition is already 0.5073. So a much lower *n* value than expected is required!\n",
    "\n",
    "However, the problem suggests some questions for the curious minded... What is the probability of having **exactly** one repeated birth date in the group? What about two repeated birth dates? That is what this repository investigates and answers.\n",
    "\n",
    "### The Birthday Repetition Probability Function\n",
    "\n",
    "Firstly, from now on I'll refer to the number of repeated birth dates as *the repetition number x*. The number of possible birth dates will be *r* (set in this case to 365, but a free parameter for other similar problems). To answer the questions from the last paragraph, we need a probability function. That is, a function that for a set of parameters (*r* and *n*), gives the probability that a random variable called *X*, which represents the repetition number, will take the value *x*.  \n",
    "\n",
    "After some investigation of my own, I discovered this function, which is the following:\n",
    "\n",
    "\\begin{equation}\n",
    "    P(X_{r,n}=x) = f(x) = \\left[\\binom{r}{n-x}\\sum_{k_1 + k_2 +...+k_{n-x} = n\\\\ \\hspace{0.8cm} 1 \\leq k_i \\leq x+1} \\frac{n!}{k_1!k_2!...k_{n-x}!}\\right]\\Large{/} \\normalsize{r^n}\n",
    "\\end{equation}\n",
    "\n",
    "It has a rather cumbersome appearance. The most disturbing part without a doubt is the summation. What are exactly the summands? The summation is done along every combination of the $k_{i}$ integer indices that add up to *n*. As the notation shows, there are $n-x$ of these indices, and their values are constrained by $1 \\leq k_i \\leq x+1$. The summands themselves are what is called permutations with repetition, in which the $k_i$ indices indicate the number of repetition for each element (not to confuse with the repetition number *x*). A combination of *r* elements taken *n-x* at a time multiplies the whole summation, and this is divided by the variations with repetition of *r* elements taken *n* at a time (which is just $r^n$)\n",
    "\n",
    "I'll spare you the details of how I came up with it and jump into the interesting question: How do I know it is true? It doesn't look easy to compute. How do I find all the combinations of all those indices?\n",
    "\n",
    "Well, firstly we could examine a simple case: $x=0$. If the formula is correct, it should replicate the results of the Birthday Problem equation. Let's see: if we plug $x=0$ in this formula, we find out:\n",
    "\n",
    "\\begin{equation}\n",
    "    P(X_{r,n}=0) = f(0) = \\left[\\binom{r}{n}\\sum_{k_1 + k_2 +...+k_{n} = n\\\\ \\hspace{0.8cm} 1 \\leq k_i \\leq x+1} \\frac{n!}{k_1!k_2!...k_{n-x}!}\\right]\\Large{/} \\normalsize{r^n} = \\left[\\binom{r}{n}n!\\right]\\Large{/} \\normalsize{r^n} = \\left[\\frac{r!}{(r-n)!}\\right]/r^n\n",
    "\\end{equation}\n",
    "\n",
    "This is the probability of obtaining 0 repetitions. So, considering $r=365$ the probability of having at least 1 repetition is just *1 minus this*:\n",
    "\n",
    "\\begin{equation}\n",
    "    P(X_{r=365,n}=0) = f(0) = 1 - \\left[\\frac{365!}{(365-n)!}\\right]/365^n =\n",
    "    1- \\left[\\frac{1 · 2 \\cdots 365}{1 · 2 \\cdots(365-n)}\\right]/365^n =\n",
    "\\end{equation}\n",
    "\n",
    "\\begin{equation}\n",
    "    = 1- \\frac{(365-n+1)\\cdots 365}{365^n} = 1 -\\left(\\frac{365-n+1}{365}\\right)\\cdots\\left(\\frac{365}{365}\\right) = \n",
    "\\end{equation}\n",
    " \n",
    "\\begin{equation}\n",
    "    = 1 -\\left(1 + \\frac{1-n}{365}\\right) \\cdot \\left(1 + \\frac{2-n}{365}\\right) \\cdots \\left(1 + \\frac{n-n}{365}\\right) =1-  \\prod_{i=1}^{n} \\left(1 + \\frac{i-n}{365}\\right) = 1-  \\prod_{i=1}^{n} \\left(1 - \\frac{n-i}{365}\\right)\n",
    "\\end{equation}\n",
    "\n",
    "\\begin{equation}\n",
    "    P(X_{r=365,n}=0)  = 1-  \\prod_{i=1}^{n-1} \\left(1 - \\frac{i}{365}\\right)\n",
    "\\end{equation}\n",
    "\n",
    "So in fact this is the equation of the Birthday Problem. This is promising, but not enough to assure us that we have found the correct probability function. We need to generalize to other values of *x*. So, lets turn to the computational part.\n",
    "\n",
    "### Simulating the Birthday Problem and computing the probability function.\n",
    "\n",
    "Apart from the analytical derivation done in the previous segment, we need to put the probability function to test. We need to compare its output to an estimate of the real probabilities we are looking for. We will find this estimate by simulating the birthday problem. This is acomplished by the *sim_birthday* function defined below. The function runs *numSim* simulations; in each of them, it selects at random the birth date of *n* people (represented by an integer from 1 to 365), and then counts how many repetitions occur, storing that information in a dictionary. At the end of the whole execution, the dictionary stores the relative frecuency of each repetition number that took place. This relative frequency, for a large enough *numSim*, is a very good estimate of the probability of that repetition number.\n",
    "\n",
    "Now that we have simulation data, let's turn to our analytical computation of the Birthday Repetition Probability Function. The first part of the formula consists of a binomial coefficient: $$\\binom{r}{n-x}$$\n",
    "\n",
    "This is can be easily calculated using the *math.comb* function from the *math* Python library.\n",
    "\n",
    "The summation is the tricky part:\n",
    "\n",
    "$$\\sum_{k_1 + k_2 +...+k_{n} = n\\\\ \\hspace{0.8cm} 1 \\leq k_i \\leq x+1} \\frac{n!}{k_1!k_2!...k_{n}!}$$\n",
    "\n",
    "We need every combination of $1 \\leq k \\leq x+1$ integers that satisfy $k_1 + k_2 +...+k_{n} = n$, do this operation with each of them: $\\frac{n!}{k_1!k_2!...k_{n}!}$ and then add all the results. The combinations are obtained by the *recursion* method below. This method works recursively, starting with a list of ones and generating all the valid results from it. Although dynamic programming has been used, the order of complexity of the algorithm renders this part of the calculation as the most costly.  The number of operations needed for obtaining every combination roughly follows this expression:\n",
    "\n",
    "$$\\sum_i^x (n-x)^i = \\frac{1-(n-x)^{x+1}}{1-(n-x)}$$\n",
    "\n",
    "For a given value of *n*, this formula grows exponentially in *x*, but then stabilizes and decreases, again, exponentially. It usually peaks near $x =0.6\\cdot n$. I provide a graph for a good visual impresion in the next code cell:"
   ]
  },
  {
   "cell_type": "code",
   "execution_count": 20,
   "metadata": {},
   "outputs": [
    {
     "data": {
      "image/png": "[encoded data removed]",
      "text/plain": [
       "<Figure size 432x288 with 1 Axes>"
      ]
     },
     "metadata": {
      "needs_background": "light"
     },
     "output_type": "display_data"
    }
   ],
   "source": [
    "import numpy as np\n",
    "import pylab as py\n",
    "\n",
    "n=15\n",
    "\n",
    "xpoints= np.linspace(0,n,1000)\n",
    "ypoints= (1-(n-xpoints)**(xpoints+1))//(1-(n-xpoints))\n",
    "\n",
    "py.figure('Complexity')\n",
    "py.plot(xpoints,ypoints)\n",
    "py.title('Number of operations with n='+ str(n))\n",
    "py.ylabel('Number of operations')\n",
    "py.xlabel('x values')\n",
    "py.show()"
   ]
  },
  {
   "cell_type": "markdown",
   "metadata": {},
   "source": [
    "(In this graph decimal values of *x* has been used to show the behaviour, although *x* can only take integer values).\n",
    "\n",
    "For a given value of *x*, it grows polynomially on *n*, which is also not a very good thing computationally.\n",
    "\n",
    "For this reason, this is an impractical calculation for large values of *n* and values of *x* far from $x\\simeq0$ and $x\\simeq n$. But it doesn't prevent us from testing the validity of the  probability function for a sufficiently large set of examples.\n",
    "\n",
    "The *recursion* function is called by the *summation* function, which carries out the addition. The final probability for given values of *r,n* y *x* is then calculated by *birth_prob*. An additional function *calc_birthday* is defined, which calls *birth_prob* for *range(0,xmax+1)*, and allows optional bar plotting.\n",
    "\n",
    "*birth_prob* is an recursion-based algorithm for solving this problem. Nevertheless, I decided to design another algorithm so I could compare the results not only with the simulation data, but with another analytical procedure aswell. I created another way of solving the summation; albeit not a better one that *birth_prob*. I defined the *summation2* method, which finds the integer combinations by *randomly* looking for them. If the complexity of the previous method was bad, this is worse: it has an unbounded time complexity. This means that, potencially, the algorithm could never finish and would never return and answer.\n",
    "\n",
    "Nonetheless, this the worst case scenario. The average-case performance is good enough for some cases, although much worse than the recursive algorithm. The stochastic algorithm starts with a valid combination, and then tweaks a bit at random. If it generates a new valid solution, it stores it and keeps tweaking; if not, it keeps tweaking aswell. The algorithm takes advantage of the fact that the number of correct combinations is well defined by the parameters, and is:\n",
    "\n",
    "$$\\text{number of valid combinations} = \\binom{n-1}{n-x-1}$$\n",
    "\n",
    "When the number of stored combinations matches this quantity, the algorithm stops and carries out the summation. *summation2* is then called by *rand_birth_prob*, which serves the same purpose as *birth_prob* did, and this in turn is called by *random_birthday*, which is equivalent to *calc_birthday*.\n",
    "\n",
    "### What are the results?\n",
    "\n",
    "Both the stochastic and the recursive algorithm give exactly the same results. Moreover, both of them match the simulation data. This means that the derived probability function is correct!\n",
    "\n",
    "In the following cells, the code appears roughly in the same order as narrated here. The last cell shows a graphic comparison between the simulation data and the recursive algorithm.\n",
    "\n",
    "**Feel free to experiment with the parameters, although remember the time complexity constraints!** "
   ]
  },
  {
   "cell_type": "code",
   "execution_count": 60,
   "metadata": {},
   "outputs": [
    {
     "data": {
      "image/png": "[encoded data removed]",
      "text/plain": [
       "<Figure size 432x288 with 1 Axes>"
      ]
     },
     "metadata": {
      "needs_background": "light"
     },
     "output_type": "display_data"
    },
    {
     "data": {
      "text/plain": [
       "{0: 0.7444, 1: 0.2264, 2: 0.0268, 3: 0.0019, 4: 0}"
      ]
     },
     "execution_count": 60,
     "metadata": {},
     "output_type": "execute_result"
    }
   ],
   "source": [
    "# Numerical simulation\n",
    "\n",
    "def sim_birthday(r,numSim,n,plot=True):\n",
    "    '''\n",
    "    Runs numSim simulations, picking birth dates at random for a group of n people.\n",
    "    Finds out the relative frecuency of each repetition number that occurred during \n",
    "    the simulations.\n",
    "    \n",
    "    r: a positive integer. The size of the sample space of possible birth dates (normally,\n",
    "    365).\n",
    "    numSim: a positive integer. Number of simulations run.\n",
    "    n: a positive integer. Number of people for which a birth date is selected.\n",
    "    plot: a boolean, True if you want to plot a bar graph, False otherwise.\n",
    "    \n",
    "    returns: a dictionary, with the relative frecuencies of each repetition number.\n",
    "    '''\n",
    "    import random\n",
    "    import pylab as py\n",
    "    \n",
    "    repetitions = {}\n",
    "    contribution= 1.0/numSim\n",
    "    for t in range(numSim):\n",
    "        birth_record = []\n",
    "        for person in range(n):\n",
    "            birth_record.append(random.randint(1,r))\n",
    "        \n",
    "        try:\n",
    "            repetitions[n - len(set(birth_record))] +=contribution\n",
    "        except KeyError:\n",
    "            repetitions[n - len(set(birth_record))] =0\n",
    "            \n",
    "    if plot: \n",
    "        py.figure('')\n",
    "        py.bar(repetitions.keys(),repetitions.values(),tick_label = [str(l) for l in repetitions.keys()])\n",
    "        py.xlabel('Repetitions')\n",
    "        py.ylabel('Relative frecuency')\n",
    "        py.title('Birthday repetitions for n=' + str(n) + \n",
    "             ' , r=' + str(r) + '\\n' + 'and ' + str(numSim) + ' simulations')\n",
    "        py.show()\n",
    "    \n",
    "   \n",
    "    ordered ={}\n",
    "    for i in range(n):\n",
    "        try:\n",
    "            ordered[i] =round(repetitions[i],4) \n",
    "        except KeyError:\n",
    "            continue\n",
    "                \n",
    "    return ordered\n",
    "\n",
    "sim_birthday(365,10000,15)"
   ]
  },
  {
   "cell_type": "code",
   "execution_count": 57,
   "metadata": {},
   "outputs": [
    {
     "data": {
      "image/png": "[encoded data removed]",
      "text/plain": [
       "<Figure size 432x288 with 1 Axes>"
      ]
     },
     "metadata": {
      "needs_background": "light"
     },
     "output_type": "display_data"
    },
    {
     "data": {
      "text/plain": [
       "{0: 0.7471, 1: 0.2235, 2: 0.0275, 3: 0.0018, 4: 0.0001}"
      ]
     },
     "execution_count": 57,
     "metadata": {},
     "output_type": "execute_result"
    }
   ],
   "source": [
    "# Analytical calculation. Recursive algorithm.\n",
    "\n",
    "import math\n",
    "import numpy as np\n",
    "\n",
    "\n",
    "    \n",
    "def recursion(n,dev_list,total_set,inter_set):\n",
    "    '''\n",
    "    n: a positive integer.\n",
    "    dev_list: a list full of 1's, with length predetermined by another function.\n",
    "    total_set: an empty set.\n",
    "    inter_set: an empty set.\n",
    "    \n",
    "    Modifies the input sets, inserting in total_set every combination of\n",
    "    len(dev_list) positive integers that sum the number n. It works recursively. \n",
    "    It also stores every intermediate step in inter_set, so it can halt the computation\n",
    "    just after it calculates an already produced intermediate step.\n",
    "    '''\n",
    "    \n",
    "    if sum(dev_list) == n:\n",
    "        total_set.add(tuple(dev_list))\n",
    "    else:\n",
    "        for i in range(len(dev_list)):\n",
    "            temp_list= dev_list[:]\n",
    "            temp_list[i] +=1\n",
    "            if tuple(temp_list) not in (total_set and inter_set):\n",
    "                inter_set.add(tuple(temp_list))\n",
    "                recursion(n,temp_list,total_set,inter_set)\n",
    "    \n",
    "    \n",
    "def summation(n,s):\n",
    "    import numpy as np\n",
    "    import math\n",
    "    \n",
    "    '''\n",
    "    n: an integer >= 1\n",
    "    s: an integer >=1 and less or equal to n.\n",
    "    \n",
    "    Calculates the summation of the Birthday repetition probability function, given that\n",
    "    s = n-x\n",
    "    '''\n",
    "    def myprod(list):\n",
    "        if len(list)==0:\n",
    "            return 1\n",
    "        else:\n",
    "            ans=1\n",
    "            for i in list:\n",
    "                ans *=i\n",
    "            return ans\n",
    "    \n",
    "    dev_list = list(np.full(s,1))\n",
    "    total_set= set()\n",
    "    inter_set= set()\n",
    "    result=0\n",
    "    \n",
    "    recursion(n,dev_list,total_set,inter_set)\n",
    "    for j in total_set:\n",
    "        result += math.factorial(n)//(myprod(list(map(math.factorial,j))))\n",
    "        #Hay un bug aquí: para sumatorio2(20,2) da un resultado negativo (birth_prob(5,20,18))\n",
    "        #El bug está en la función np.prod. He hecho una propia.\n",
    "    return result\n",
    "\n",
    "def birth_prob(r,n,x):\n",
    "    '''\n",
    "    r: an integer >=1\n",
    "    n: an integer >=1\n",
    "    x: an integer >=0 and <n\n",
    "    \n",
    "    Calculates the probability of having x repeated values in a group of size n, \n",
    "    when the sample space has r posible values.\n",
    "    '''\n",
    "    import math\n",
    "    \n",
    "    assert r>=1 and n>=1 and x>=0 and type(r)==int and type(n)==int and type(x)==int , 'Inputs should be positive integers, nonnegative in the case of x'\n",
    "    assert x<n, 'The repetition number x should be less than n'\n",
    "    try:\n",
    "        return round(math.comb(r,n-x)*summation(n,n-x)/(r**n),4)\n",
    "    except ValueError:\n",
    "        return 0.0\n",
    "    \n",
    "def calc_birthday(n,r,xmax,plot=True):\n",
    "    '''\n",
    "    Uses birth_prob for range(0,xmax+1) in the x number. Plots the results.\n",
    "    \n",
    "    r: an integer >=1. Sample space size\n",
    "    n: an integer >=1. Number of people in the group\n",
    "    xmax: an integer >=0 and <n. Maximum repetition number\n",
    "    plot: a boolean, True if you want to plot a bar graph, False otherwise.\n",
    "    \n",
    "    returns: a dictionary with the results.\n",
    "    '''\n",
    "    \n",
    "    import pylab as py\n",
    "    \n",
    "    results = {}\n",
    "    \n",
    "    for i in range(xmax+1):\n",
    "        results[i] = birth_prob(r,n,i)\n",
    "    \n",
    "    if plot:\n",
    "        py.figure('')\n",
    "        py.bar(results.keys(),results.values(),tick_label = [str(l) for l in results.keys()])\n",
    "        py.xlabel('Repetition number x')\n",
    "        py.ylabel('Probability')\n",
    "        py.title('Repetition probability for n=' + str(n) + \n",
    "             ' , r=' + str(r))\n",
    "        py.show()\n",
    "    \n",
    "    return results\n",
    "\n",
    "calc_birthday(15,365,4)"
   ]
  },
  {
   "cell_type": "code",
   "execution_count": 59,
   "metadata": {
    "scrolled": true
   },
   "outputs": [
    {
     "data": {
      "image/png": "[encoded data removed]",
      "text/plain": [
       "<Figure size 432x288 with 1 Axes>"
      ]
     },
     "metadata": {
      "needs_background": "light"
     },
     "output_type": "display_data"
    },
    {
     "data": {
      "text/plain": [
       "{0: 0.7471, 1: 0.2235, 2: 0.0275, 3: 0.0018, 4: 0.0001}"
      ]
     },
     "execution_count": 59,
     "metadata": {},
     "output_type": "execute_result"
    }
   ],
   "source": [
    "# Analytical calculation. Stochastic algorithm.  \n",
    "    \n",
    "    \n",
    "def summation2(n,x):\n",
    "    \n",
    "    '''\n",
    "    n: an integer >= 1\n",
    "    x: an integer >=0 and less or equal to n.\n",
    "    \n",
    "    Calculates the summation of the Birthday repetition probability function by randomly\n",
    "    searching combinations of (n-x) integers that sum n. Kind of goofy, but works.\n",
    "    '''\n",
    "    import random as ran\n",
    "    import numpy as np\n",
    "    import math\n",
    "    \n",
    "    assert n>=1 and x>=0 and type(n)==int and type(x)==int , 'Inputs should be positive integers, nonnegative in the case of x'\n",
    "    assert x<n, 'The number of repetitions x should be less than n'\n",
    "    \n",
    "    indices = list(np.full(n-x-1,n//(n-x))) + [n%(n-x) + n//(n-x)]\n",
    "    dictio ={}\n",
    "    bino= math.comb(n-1,n-x-1)\n",
    "    if sum(indices) == len(indices):                \n",
    "        return math.factorial(n)\n",
    "    \n",
    "    while len(dictio) < bino:\n",
    "        if tuple(indices) not in dictio:\n",
    "            dictio[tuple(indices)] = math.factorial(n)/(np.prod(list(map(math.factorial,indices))))\n",
    "        \n",
    "            \n",
    "        operation=False\n",
    "        while not operation:\n",
    "            ranin= ran.randint(0,len(indices)-1)\n",
    "            if indices[ranin]>1:\n",
    "                indices[ranin]-=1\n",
    "                indices[ran.randint(0,len(indices)-1)] +=1\n",
    "                operation= True\n",
    "            else:\n",
    "                continue\n",
    "            \n",
    "    return sum(list(dictio.values()))    \n",
    "\n",
    "\n",
    "def rand_birth_prob(r,n,x):\n",
    "    '''\n",
    "    r: an integer >=1\n",
    "    n: an integer >=1\n",
    "    x: an integer >=0 and <n\n",
    "    \n",
    "    Calculates the probability of having a repetition number of x in a group of size n, \n",
    "    when the sample space has r posible values. Uses a stochastic process (the summatory function)\n",
    "    to do the calculation.\n",
    "    '''\n",
    "    import math\n",
    "    \n",
    "    assert r>=1 and n>=1 and x>=0 and type(r)==int and type(n)==int and type(x)==int , 'Inputs should be positive integers, nonnegative in the case of x'\n",
    "    assert x<n, 'The number of repetitions x should be less than n'\n",
    "    \n",
    "    return round(math.comb(r,n-x)*summation2(n,x)/(r**n),4)\n",
    "\n",
    "def random_birthday(r,n,xmax,plot =True):\n",
    "    '''\n",
    "    Uses rand_birth_prob for range(0,xmax+1) in the x number. Plots the results.\n",
    "    \n",
    "    r: an integer >=1. Sample space size.\n",
    "    n: an integer >=1. Number of people in the group.\n",
    "    xmax: an integer >=0 and <n. Maximum repetition number.\n",
    "    plot: a boolean, True if you want to plot a bar graph, False otherwise.\n",
    "    \n",
    "    returns: a dictionary with the results.\n",
    "    '''\n",
    "    import pylab as py\n",
    "    \n",
    "    results = {}\n",
    "    \n",
    "    for i in range(xmax+1):\n",
    "        results[i] = rand_birth_prob(r,n,i)\n",
    "    \n",
    "    if plot:\n",
    "        py.figure('')\n",
    "        py.bar(results.keys(),results.values(),tick_label = [str(l) for l in results.keys()])\n",
    "        py.xlabel('Repetition number x')\n",
    "        py.ylabel('Probability')\n",
    "        py.title('Repetition probability for n=' + str(n) + \n",
    "             ' , r=' + str(r))\n",
    "        py.show()\n",
    "    \n",
    "    return results\n",
    "\n",
    "random_birthday(365,15,4)"
   ]
  },
  {
   "cell_type": "code",
   "execution_count": 50,
   "metadata": {},
   "outputs": [
    {
     "data": {
      "image/png": "[encoded data removed]",
      "text/plain": [
       "<Figure size 432x288 with 1 Axes>"
      ]
     },
     "metadata": {
      "needs_background": "light"
     },
     "output_type": "display_data"
    },
    {
     "name": "stdout",
     "output_type": "stream",
     "text": [
      "Computed probability:\n",
      "{0: 0.4313, 1: 0.3794, 2: 0.1489, 3: 0.0345, 4: 0.0053, 5: 0.0006}\n",
      "\n",
      "Simulation data:\n",
      "{0: 0.4255, 1: 0.3872, 2: 0.1468, 3: 0.0349, 4: 0.0045, 5: 0.0005}\n"
     ]
    }
   ],
   "source": [
    "#Comparison of simulation data with computed probabilities\n",
    "\n",
    "n=25\n",
    "r=365\n",
    "numSim= 10000\n",
    "\n",
    "simul = sim_birthday(r,numSim,n,False)\n",
    "\n",
    "recur = calc_birthday(n,r,len(simul.keys())-1,False)\n",
    "\n",
    "py.figure('')\n",
    "py.bar(recur.keys(),recur.values(),label='Computed probability')\n",
    "py.bar(simul.keys(),simul.values(),tick_label = [str(l) for l in simul.keys()],\n",
    "      width = 0.3, color ='r',label='Simulation data')\n",
    "py.xlabel('Repetitions')\n",
    "py.ylabel('Probability')\n",
    "py.title('Repetition probability for n=' + str(n) + \n",
    "             ' , r=' + str(r) + '\\n'+ 'and numSim='+ str(numSim))\n",
    "py.legend(loc='best')\n",
    "py.show()\n",
    "\n",
    "print('Computed probability:')\n",
    "print(recur)\n",
    "print('\\n'+'Simulation data:')\n",
    "print(simul)"
   ]
  }
 ],
 "metadata": {
  "kernelspec": {
   "display_name": "Python 3",
   "language": "python",
   "name": "python3"
  },
  "language_info": {
   "codemirror_mode": {
    "name": "ipython",
    "version": 3
   },
   "file_extension": ".py",
   "mimetype": "text/x-python",
   "name": "python",
   "nbconvert_exporter": "python",
   "pygments_lexer": "ipython3",
   "version": "3.8.5"
  }
 },
 "nbformat": 4,
 "nbformat_minor": 4
}
